{
 "cells": [
  {
   "cell_type": "markdown",
   "id": "f6d2be3e-28a5-4495-aa21-c56812aa01b0",
   "metadata": {},
   "source": [
    "# exercise sheet 1"
   ]
  },
  {
   "cell_type": "code",
   "execution_count": 1,
   "id": "0d71708a-3418-48c4-b271-2723fd13504c",
   "metadata": {},
   "outputs": [],
   "source": [
    "import numpy as np\n",
    "from matplotlib import pyplot as plt\n",
    "import copy\n",
    "\n",
    "import pandas as pd\n",
    "from collections import Counter"
   ]
  },
  {
   "cell_type": "markdown",
   "id": "cad1066e-2349-44eb-86a8-a887646193b8",
   "metadata": {},
   "source": [
    "## task 1.1 a)\n",
    "1D random walk"
   ]
  },
  {
   "cell_type": "code",
   "execution_count": 86,
   "id": "4b1c289d-85a5-4b71-8f74-175f5d7d862e",
   "metadata": {},
   "outputs": [],
   "source": [
    "possible_steps = 2\n",
    "p = 1/possible_steps\n",
    "start = 0\n",
    "current_pos = copy.deepcopy(start)"
   ]
  },
  {
   "cell_type": "markdown",
   "id": "8d6e0c46-84fd-4a12-b7fe-3245f402379f",
   "metadata": {},
   "source": [
    "1 walker"
   ]
  },
  {
   "cell_type": "code",
   "execution_count": 87,
   "id": "1d3357f3-4b14-4ae1-892d-e70076c85a98",
   "metadata": {},
   "outputs": [],
   "source": [
    "nb_steps = 10_000\n",
    "memory = np.zeros(shape=nb_steps)\n",
    "random_steps = np.random.randint(0, 2, size=(nb_steps))\n",
    "random_steps[random_steps==0] = -1\n",
    "\n",
    "for index, step in enumerate(random_steps):\n",
    "    if step: # if random val < 0.5 we go to the left, else to the right\n",
    "        current_pos -= 1\n",
    "    else:\n",
    "        current_pos += 1    \n",
    "    memory[index] = current_pos"
   ]
  },
  {
   "cell_type": "markdown",
   "id": "af07ff62-ef5f-494f-b7c7-d603a1da96c7",
   "metadata": {},
   "source": [
    "multiple walkers"
   ]
  },
  {
   "cell_type": "code",
   "execution_count": 80,
   "id": "88f561a0-d8c5-4684-8ba4-66e96dcbdc73",
   "metadata": {},
   "outputs": [],
   "source": [
    "nb_steps = 1_000\n",
    "nb_walkers = 1_000\n",
    "memory = np.zeros(shape=nb_steps*nb_walkers)\n",
    "\n",
    "for i in range(nb_walkers):\n",
    "    random_steps = np.random.randint(0, 2, size=(nb_steps))\n",
    "    random_steps[random_steps==0] = -1\n",
    "    \n",
    "    current_pos = 0\n",
    "\n",
    "    for index, step in enumerate(random_steps):\n",
    "        if step: # if random val < 0.5 we go to the left, else to the right\n",
    "            current_pos -= 1\n",
    "        else:\n",
    "            current_pos += 1    \n",
    "        memory[index + i*nb_steps] = current_pos"
   ]
  },
  {
   "cell_type": "code",
   "execution_count": 88,
   "id": "549f2ff3-4331-4af1-b4ce-8db065e14008",
   "metadata": {},
   "outputs": [
    {
     "data": {
      "text/plain": [
       "<AxesSubplot:>"
      ]
     },
     "execution_count": 88,
     "metadata": {},
     "output_type": "execute_result"
    },
    {
     "data": {
      "image/png": "[encoded data removed]",
      "text/plain": [
       "<Figure size 640x480 with 1 Axes>"
      ]
     },
     "metadata": {},
     "output_type": "display_data"
    }
   ],
   "source": [
    "count = Counter(memory)\n",
    "df = pd.DataFrame.from_dict(count, orient='index')\n",
    "df.sort_index(inplace=True)\n",
    "df.plot(kind='bar')"
   ]
  },
  {
   "cell_type": "markdown",
   "id": "e0fb1c14-88ef-491e-80a3-b974b58e2dae",
   "metadata": {},
   "source": [
    "## task 1.1 b)"
   ]
  },
  {
   "cell_type": "code",
   "execution_count": 91,
   "id": "928aba50-4ec7-445a-80c6-9c9a91ac3cc2",
   "metadata": {},
   "outputs": [],
   "source": [
    "# N = 10, 100, 1_000\n",
    "Ns = np.array([10, 100, 1000])\n",
    "N = Ns[2]"
   ]
  },
  {
   "cell_type": "code",
   "execution_count": 111,
   "id": "f52be832-6342-4d14-9b5a-46f5f82c1b52",
   "metadata": {},
   "outputs": [
    {
     "name": "stdout",
     "output_type": "stream",
     "text": [
      "0.157\n",
      "0.000\n"
     ]
    }
   ],
   "source": [
    "nb_walks = 1_000\n",
    "possible_steps = 2\n",
    "p = 1/possible_steps\n",
    "\n",
    "random_steps = np.random.randint(0, 2, size=(N, nb_walks))\n",
    "random_steps[random_steps==0] = -1\n",
    "\n",
    "print(f\"{(np.sum(np.sum(random_steps, axis=0) > np.sqrt(N))) / nb_walks:.3f}\")\n",
    "print(f\"{(np.sum(np.sum(random_steps, axis=0) > 3*np.sqrt(N))) / nb_walks:.3f}\")"
   ]
  },
  {
   "cell_type": "markdown",
   "id": "073a4cbf-7b71-42bc-811f-5f332a4c6303",
   "metadata": {},
   "source": [
    "## task 1.1 c)"
   ]
  },
  {
   "cell_type": "code",
   "execution_count": 43,
   "id": "aded5f9f-1f8d-474e-b427-9c36d5830441",
   "metadata": {},
   "outputs": [],
   "source": [
    "possible_steps = 2\n",
    "p = 1/possible_steps\n",
    "\n",
    "start_1 = 0\n",
    "start_2 = 5"
   ]
  },
  {
   "cell_type": "code",
   "execution_count": 63,
   "id": "ec92abf3-9c0c-46a6-8d92-3ac31c20c782",
   "metadata": {},
   "outputs": [
    {
     "name": "stdout",
     "output_type": "stream",
     "text": [
      "Agents cross paths in step 18.\n"
     ]
    }
   ],
   "source": [
    "nb_steps = 10\n",
    "random_steps = np.random.randint(0, 2, size=(nb_steps, 2))\n",
    "random_steps[random_steps==0] = -1\n",
    "\n",
    "current_pos = np.array([copy.deepcopy(start_1), copy.deepcopy(start_2)])\n",
    "\n",
    "for col in np.arange(nb_steps):\n",
    "    #print(f\"{current_pos} + {random_steps[col,:]} -> {current_pos + random_steps[col,:]}\")\n",
    "    current_pos += random_steps[col,:]\n",
    "    if current_pos[0] > current_pos[1]:\n",
    "        print(f\"Agents cross paths in step {col}.\")\n",
    "        break"
   ]
  },
  {
   "cell_type": "code",
   "execution_count": 75,
   "id": "986b4fc0-70d3-427c-b509-de9c4cb37bd1",
   "metadata": {},
   "outputs": [
    {
     "name": "stdout",
     "output_type": "stream",
     "text": [
      "0.186\n"
     ]
    }
   ],
   "source": [
    "nb_steps = 10\n",
    "nb_simulations = 5_000\n",
    "\n",
    "nb_crossings = 0\n",
    "\n",
    "for i in range(nb_simulations):\n",
    "    random_steps = np.random.randint(0, 2, size=(nb_steps, 2))\n",
    "    random_steps[random_steps==0] = -1\n",
    "    current_pos = np.array([copy.deepcopy(start_1), copy.deepcopy(start_2)])\n",
    "\n",
    "    for col in np.arange(nb_steps):\n",
    "        current_pos += random_steps[col,:]\n",
    "        if current_pos[0] > current_pos[1]:\n",
    "            nb_crossings += 1\n",
    "            break\n",
    "            \n",
    "print(f\"{nb_crossings/nb_simulations:.3f}\")"
   ]
  },
  {
   "cell_type": "code",
   "execution_count": null,
   "id": "d3a6d7e9-4555-4700-a4e3-225c0a59e09e",
   "metadata": {},
   "outputs": [],
   "source": []
  }
 ],
 "metadata": {
  "kernelspec": {
   "display_name": "Python 3 (ipykernel)",
   "language": "python",
   "name": "python3"
  },
  "language_info": {
   "codemirror_mode": {
    "name": "ipython",
    "version": 3
   },
   "file_extension": ".py",
   "mimetype": "text/x-python",
   "name": "python",
   "nbconvert_exporter": "python",
   "pygments_lexer": "ipython3",
   "version": "3.9.13"
  }
 },
 "nbformat": 4,
 "nbformat_minor": 5
}

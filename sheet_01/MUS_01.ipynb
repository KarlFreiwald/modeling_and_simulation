{
 "cells": [
  {
   "cell_type": "markdown",
   "id": "f6d2be3e-28a5-4495-aa21-c56812aa01b0",
   "metadata": {},
   "source": [
    "# exercise sheet 1"
   ]
  },
  {
   "cell_type": "code",
   "execution_count": 1,
   "id": "0d71708a-3418-48c4-b271-2723fd13504c",
   "metadata": {},
   "outputs": [],
   "source": [
    "import numpy as np\n",
    "from matplotlib import pyplot as plt\n",
    "import copy\n",
    "\n",
    "import pandas as pd\n",
    "from collections import Counter"
   ]
  },
  {
   "cell_type": "markdown",
   "id": "cad1066e-2349-44eb-86a8-a887646193b8",
   "metadata": {},
   "source": [
    "## task 1.1 a)\n",
    "1D random walk"
   ]
  },
  {
   "cell_type": "code",
   "execution_count": 2,
   "id": "4b1c289d-85a5-4b71-8f74-175f5d7d862e",
   "metadata": {},
   "outputs": [],
   "source": [
    "possible_steps = 2\n",
    "p = 1/possible_steps\n",
    "start = 0\n",
    "current_pos = copy.deepcopy(start)"
   ]
  },
  {
   "cell_type": "markdown",
   "id": "8d6e0c46-84fd-4a12-b7fe-3245f402379f",
   "metadata": {},
   "source": [
    "1 walker"
   ]
  },
  {
   "cell_type": "code",
   "execution_count": 3,
   "id": "1d3357f3-4b14-4ae1-892d-e70076c85a98",
   "metadata": {},
   "outputs": [],
   "source": [
    "nb_steps = 10_000\n",
    "memory = np.zeros(shape=nb_steps)\n",
    "random_steps = np.random.randint(0, 2, size=(nb_steps))\n",
    "random_steps[random_steps==0] = -1\n",
    "\n",
    "for index, step in enumerate(random_steps):\n",
    "    if step: # if random val < 0.5 we go to the left, else to the right\n",
    "        current_pos -= 1\n",
    "    else:\n",
    "        current_pos += 1    \n",
    "    memory[index] = current_pos"
   ]
  },
  {
   "cell_type": "markdown",
   "id": "af07ff62-ef5f-494f-b7c7-d603a1da96c7",
   "metadata": {},
   "source": [
    "multiple walkers"
   ]
  },
  {
   "cell_type": "code",
   "execution_count": 4,
   "id": "88f561a0-d8c5-4684-8ba4-66e96dcbdc73",
   "metadata": {},
   "outputs": [],
   "source": [
    "nb_steps = 1_000\n",
    "nb_walkers = 1_000\n",
    "memory = np.zeros(shape=nb_steps*nb_walkers)\n",
    "\n",
    "for i in range(nb_walkers):\n",
    "    random_steps = np.random.randint(0, 2, size=(nb_steps))\n",
    "    random_steps[random_steps==0] = -1\n",
    "    \n",
    "    current_pos = 0\n",
    "\n",
    "    for index, step in enumerate(random_steps):\n",
    "        if step: # if random val < 0.5 we go to the left, else to the right\n",
    "            current_pos -= 1\n",
    "        else:\n",
    "            current_pos += 1    \n",
    "        memory[index + i*nb_steps] = current_pos"
   ]
  },
  {
   "cell_type": "code",
   "execution_count": 5,
   "id": "549f2ff3-4331-4af1-b4ce-8db065e14008",
   "metadata": {},
   "outputs": [
    {
     "data": {
      "text/plain": [
       "<AxesSubplot:>"
      ]
     },
     "execution_count": 5,
     "metadata": {},
     "output_type": "execute_result"
    },
    {
     "data": {
      "image/png": "[encoded data removed]",
      "text/plain": [
       "<Figure size 640x480 with 1 Axes>"
      ]
     },
     "metadata": {},
     "output_type": "display_data"
    }
   ],
   "source": [
    "count = Counter(memory)\n",
    "df = pd.DataFrame.from_dict(count, orient='index')\n",
    "df.sort_index(inplace=True)\n",
    "df.plot(kind='bar')"
   ]
  },
  {
   "cell_type": "markdown",
   "id": "e0fb1c14-88ef-491e-80a3-b974b58e2dae",
   "metadata": {},
   "source": [
    "## task 1.1 b)"
   ]
  },
  {
   "cell_type": "code",
   "execution_count": 6,
   "id": "928aba50-4ec7-445a-80c6-9c9a91ac3cc2",
   "metadata": {},
   "outputs": [],
   "source": [
    "# N = 10, 100, 1_000\n",
    "Ns = np.array([10, 100, 1000])\n",
    "N = Ns[2]"
   ]
  },
  {
   "cell_type": "code",
   "execution_count": 7,
   "id": "f52be832-6342-4d14-9b5a-46f5f82c1b52",
   "metadata": {},
   "outputs": [
    {
     "name": "stdout",
     "output_type": "stream",
     "text": [
      "0.150\n",
      "0.000\n"
     ]
    }
   ],
   "source": [
    "nb_walks = 1_000\n",
    "possible_steps = 2\n",
    "p = 1/possible_steps\n",
    "\n",
    "random_steps = np.random.randint(0, 2, size=(N, nb_walks))\n",
    "random_steps[random_steps==0] = -1\n",
    "\n",
    "print(f\"{(np.sum(np.sum(random_steps, axis=0) > np.sqrt(N))) / nb_walks:.3f}\")\n",
    "print(f\"{(np.sum(np.sum(random_steps, axis=0) > 3*np.sqrt(N))) / nb_walks:.3f}\")"
   ]
  },
  {
   "cell_type": "markdown",
   "id": "073a4cbf-7b71-42bc-811f-5f332a4c6303",
   "metadata": {},
   "source": [
    "## task 1.1 c)"
   ]
  },
  {
   "cell_type": "code",
   "execution_count": 8,
   "id": "aded5f9f-1f8d-474e-b427-9c36d5830441",
   "metadata": {},
   "outputs": [],
   "source": [
    "possible_steps = 2\n",
    "p = 1/possible_steps\n",
    "\n",
    "start_1 = 0\n",
    "start_2 = 5"
   ]
  },
  {
   "cell_type": "code",
   "execution_count": 9,
   "id": "ec92abf3-9c0c-46a6-8d92-3ac31c20c782",
   "metadata": {},
   "outputs": [],
   "source": [
    "nb_steps = 10\n",
    "random_steps = np.random.randint(0, 2, size=(nb_steps, 2))\n",
    "random_steps[random_steps==0] = -1\n",
    "\n",
    "current_pos = np.array([copy.deepcopy(start_1), copy.deepcopy(start_2)])\n",
    "\n",
    "for col in np.arange(nb_steps):\n",
    "    #print(f\"{current_pos} + {random_steps[col,:]} -> {current_pos + random_steps[col,:]}\")\n",
    "    current_pos += random_steps[col,:]\n",
    "    if current_pos[0] > current_pos[1]:\n",
    "        print(f\"Agents cross paths in step {col}.\")\n",
    "        break"
   ]
  },
  {
   "cell_type": "code",
   "execution_count": 10,
   "id": "986b4fc0-70d3-427c-b509-de9c4cb37bd1",
   "metadata": {},
   "outputs": [
    {
     "name": "stdout",
     "output_type": "stream",
     "text": [
      "0.198\n"
     ]
    }
   ],
   "source": [
    "nb_steps = 10\n",
    "nb_simulations = 5_000\n",
    "\n",
    "nb_crossings = 0\n",
    "\n",
    "for i in range(nb_simulations):\n",
    "    random_steps = np.random.randint(0, 2, size=(nb_steps, 2))\n",
    "    random_steps[random_steps==0] = -1\n",
    "    current_pos = np.array([copy.deepcopy(start_1), copy.deepcopy(start_2)])\n",
    "\n",
    "    for col in np.arange(nb_steps):\n",
    "        current_pos += random_steps[col,:]\n",
    "        if current_pos[0] > current_pos[1]:\n",
    "            nb_crossings += 1\n",
    "            break\n",
    "            \n",
    "print(f\"{nb_crossings/nb_simulations:.3f}\")"
   ]
  },
  {
   "cell_type": "code",
   "execution_count": null,
   "id": "d3a6d7e9-4555-4700-a4e3-225c0a59e09e",
   "metadata": {},
   "outputs": [],
   "source": []
  },
  {
   "cell_type": "code",
   "execution_count": null,
   "id": "2a60879f-9096-4f61-a877-7fbf0c1e0587",
   "metadata": {},
   "outputs": [],
   "source": []
  },
  {
   "cell_type": "code",
   "execution_count": null,
   "id": "26503694-cfca-444d-812a-973a67476acf",
   "metadata": {},
   "outputs": [],
   "source": []
  },
  {
   "cell_type": "markdown",
   "id": "afc1a950-235f-4718-ba4d-044018c9162b",
   "metadata": {},
   "source": [
    "## task 2"
   ]
  },
  {
   "cell_type": "code",
   "execution_count": 11,
   "id": "ab20b035-e495-472e-9e1f-e047d2b9f2bf",
   "metadata": {},
   "outputs": [],
   "source": [
    "Ns = np.arange(2, 8)"
   ]
  },
  {
   "cell_type": "code",
   "execution_count": 12,
   "id": "b2a3eeed-4071-4c22-904f-db58bf9c52c1",
   "metadata": {},
   "outputs": [],
   "source": [
    "N = Ns[0]\n",
    "nb_steps = 10\n",
    "\n",
    "#field = np.zeros(shape=(N, N))\n",
    "start_pos = np.array([\n",
    "    0 if np.random.rand() > 0.5 else N, \n",
    "    0 if np.random.rand() > 0.5 else N\n",
    "])\n",
    "\n",
    "is_in_corner = True\n",
    "is_on_edge = True\n",
    "nb_possible_moves = 4 # 2, 3, 4 are the only possible options"
   ]
  },
  {
   "cell_type": "code",
   "execution_count": 44,
   "id": "d911196c-7027-477b-8f7d-07b75edb6f09",
   "metadata": {},
   "outputs": [
    {
     "ename": "TypeError",
     "evalue": "'int' object is not subscriptable",
     "output_type": "error",
     "traceback": [
      "\u001b[1;31m---------------------------------------------------------------------------\u001b[0m",
      "\u001b[1;31mTypeError\u001b[0m                                 Traceback (most recent call last)",
      "\u001b[1;32m~\\AppData\\Local\\Temp\\ipykernel_9708\\2937834109.py\u001b[0m in \u001b[0;36m<module>\u001b[1;34m\u001b[0m\n\u001b[0;32m     11\u001b[0m     \u001b[0mcurrent_pos\u001b[0m \u001b[1;33m=\u001b[0m \u001b[0mnp\u001b[0m\u001b[1;33m.\u001b[0m\u001b[0mrandom\u001b[0m\u001b[1;33m.\u001b[0m\u001b[0mrandint\u001b[0m\u001b[1;33m(\u001b[0m\u001b[0mlow\u001b[0m\u001b[1;33m=\u001b[0m\u001b[1;36m0\u001b[0m\u001b[1;33m,\u001b[0m \u001b[0mhigh\u001b[0m\u001b[1;33m=\u001b[0m\u001b[0mnb_possible_moves\u001b[0m\u001b[1;33m)\u001b[0m\u001b[1;33m\u001b[0m\u001b[1;33m\u001b[0m\u001b[0m\n\u001b[0;32m     12\u001b[0m \u001b[1;33m\u001b[0m\u001b[0m\n\u001b[1;32m---> 13\u001b[1;33m     \u001b[1;32mif\u001b[0m \u001b[1;33m(\u001b[0m\u001b[0mcurrent_pos\u001b[0m\u001b[1;33m[\u001b[0m\u001b[1;36m0\u001b[0m\u001b[1;33m]\u001b[0m \u001b[1;33m==\u001b[0m \u001b[1;36m0\u001b[0m \u001b[1;32mor\u001b[0m \u001b[0mcurrent_pos\u001b[0m\u001b[1;33m[\u001b[0m\u001b[1;36m0\u001b[0m\u001b[1;33m]\u001b[0m \u001b[1;33m==\u001b[0m \u001b[0mN\u001b[0m\u001b[1;33m-\u001b[0m\u001b[1;36m1\u001b[0m\u001b[1;33m)\u001b[0m \u001b[1;32mand\u001b[0m \u001b[1;33m(\u001b[0m\u001b[0mcurrent_pos\u001b[0m\u001b[1;33m[\u001b[0m\u001b[1;36m1\u001b[0m\u001b[1;33m]\u001b[0m \u001b[1;33m==\u001b[0m \u001b[1;36m0\u001b[0m \u001b[1;32mor\u001b[0m \u001b[0mcurrent_pos\u001b[0m\u001b[1;33m[\u001b[0m\u001b[1;36m1\u001b[0m\u001b[1;33m]\u001b[0m \u001b[1;33m==\u001b[0m \u001b[0mN\u001b[0m\u001b[1;33m-\u001b[0m\u001b[1;36m1\u001b[0m\u001b[1;33m)\u001b[0m\u001b[1;33m:\u001b[0m\u001b[1;33m\u001b[0m\u001b[1;33m\u001b[0m\u001b[0m\n\u001b[0m\u001b[0;32m     14\u001b[0m         \u001b[1;31m# agent is in a corner\u001b[0m\u001b[1;33m\u001b[0m\u001b[1;33m\u001b[0m\u001b[0m\n\u001b[0;32m     15\u001b[0m         \u001b[0mis_in_corner\u001b[0m \u001b[1;33m=\u001b[0m \u001b[1;32mTrue\u001b[0m\u001b[1;33m\u001b[0m\u001b[1;33m\u001b[0m\u001b[0m\n",
      "\u001b[1;31mTypeError\u001b[0m: 'int' object is not subscriptable"
     ]
    }
   ],
   "source": [
    "current_pos = copy.deepcopy(start_pos)\n",
    "\n",
    "for i in range(nb_steps):\n",
    "    if is_in_corner:\n",
    "        nb_possible_moves = 2\n",
    "    elif is_on_edge:\n",
    "        nb_possible_moves = 3\n",
    "    else:\n",
    "        nb_possible_moves = 4\n",
    "        \n",
    "    current_pos = np.random.randint(low=0, high=nb_possible_moves)\n",
    "    \n",
    "    if (current_pos[0] == 0 or current_pos[0] == N-1) and (current_pos[1] == 0 or current_pos[1] == N-1):\n",
    "        # agent is in a corner\n",
    "        is_in_corner = True\n",
    "        is_on_edge = True\n",
    "    elif (current_pos[0] == 0 or current_pos[0] == N-1) or (current_pos[1] == 0 or current_pos[1] == N-1):\n",
    "        # agent is on the edge, but not in a corner\n",
    "        is_in_corner = False\n",
    "        is_on_edge = True\n",
    "    else:\n",
    "        is_in_corner = False\n",
    "        is_on_edge = False"
   ]
  },
  {
   "cell_type": "code",
   "execution_count": 15,
   "id": "4ca717e0-4419-4c44-bd12-895f07fda356",
   "metadata": {},
   "outputs": [
    {
     "name": "stdout",
     "output_type": "stream",
     "text": [
      "[1 0]\n",
      "[1 1]\n",
      "[1 1]\n",
      "[1 0]\n",
      "[1 1]\n",
      "[1 0]\n",
      "[1 1]\n",
      "[1 1]\n",
      "[1 0]\n",
      "[0 0]\n"
     ]
    }
   ],
   "source": [
    "current_pos = copy.deepcopy(start_pos)\n",
    "\n",
    "for i in range(nb_steps):\n",
    "    while True:\n",
    "        step = np.random.randint(low=0, high=4)\n",
    "        if step == 0:\n",
    "            current_pos[0] -= 1\n",
    "        elif step == 1:\n",
    "            current_pos[1] += 1\n",
    "        elif step == 2:\n",
    "            current_pos[0] += 1\n",
    "        elif step == 3:\n",
    "            current_pos[1] -= 1\n",
    "            \n",
    "        if 0 <= current_pos[0] < N and 0 <= current_pos[1] < N:\n",
    "            break\n",
    "    print(current_pos)"
   ]
  },
  {
   "cell_type": "code",
   "execution_count": null,
   "id": "080437fe-d7d1-41f2-a1cc-384b286dc664",
   "metadata": {},
   "outputs": [],
   "source": [
    "range(0, N)"
   ]
  },
  {
   "cell_type": "code",
   "execution_count": null,
   "id": "c9f23b4a-0eac-4952-aa8f-6ea4f2a0eab6",
   "metadata": {},
   "outputs": [],
   "source": []
  }
 ],
 "metadata": {
  "kernelspec": {
   "display_name": "Python 3 (ipykernel)",
   "language": "python",
   "name": "python3"
  },
  "language_info": {
   "codemirror_mode": {
    "name": "ipython",
    "version": 3
   },
   "file_extension": ".py",
   "mimetype": "text/x-python",
   "name": "python",
   "nbconvert_exporter": "python",
   "pygments_lexer": "ipython3",
   "version": "3.9.13"
  }
 },
 "nbformat": 4,
 "nbformat_minor": 5
}
